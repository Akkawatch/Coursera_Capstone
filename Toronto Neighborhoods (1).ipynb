{
 "cells": [
  {
   "cell_type": "markdown",
   "metadata": {},
   "source": [
    "<h1><center>Segmenting and Clustering Neighborhoods in Toronto - Part 1</center></h1>"
   ]
  },
  {
   "cell_type": "markdown",
   "metadata": {},
   "source": [
    "## import libraries"
   ]
  },
  {
   "cell_type": "code",
   "execution_count": 1,
   "metadata": {
    "tags": []
   },
   "outputs": [],
   "source": [
    "import pandas as pd \n",
    "import numpy as np \n",
    "from bs4 import BeautifulSoup\n",
    "import requests"
   ]
  },
  {
   "cell_type": "markdown",
   "metadata": {},
   "source": [
    "## scraping table from wikipedia"
   ]
  },
  {
   "cell_type": "markdown",
   "metadata": {},
   "source": [
    "### getting table from wikipedia and assign to an object"
   ]
  },
  {
   "cell_type": "code",
   "execution_count": 2,
   "metadata": {
    "tags": []
   },
   "outputs": [],
   "source": [
    "url = 'https://en.wikipedia.org/wiki/List_of_postal_codes_of_Canada:_M' # define an url\n",
    "html_content = requests.get(url).text # make a get request to an url\n",
    "wiki = BeautifulSoup(html_content, 'lxml') # assign html content to an object 'wiki'"
   ]
  },
  {
   "cell_type": "markdown",
   "metadata": {},
   "source": [
    "### filtering data only table part"
   ]
  },
  {
   "cell_type": "code",
   "execution_count": 3,
   "metadata": {
    "tags": []
   },
   "outputs": [],
   "source": [
    "postal_table = wiki.find('table', attrs={'class': 'wikitable'}) # find a table with attributes include class as wikitable\n",
    "postal_table_data = postal_table.tbody.find_all('tr') # get all tr tags which include header and all rows in a table"
   ]
  },
  {
   "cell_type": "markdown",
   "metadata": {},
   "source": [
    "### get table header as a list of column names"
   ]
  },
  {
   "cell_type": "code",
   "execution_count": 4,
   "metadata": {
    "tags": []
   },
   "outputs": [
    {
     "output_type": "stream",
     "name": "stdout",
     "text": "['Postal Code', 'Borough', 'Neighborhood']\n"
    }
   ],
   "source": [
    "headings = []\n",
    "\n",
    "for th in postal_table_data[0].find_all('th'): # getting a name of each columns \n",
    "    # get only a text, remove the newlines and white spaces on left and right, and append into a list\n",
    "    headings.append(th.text.replace('\\n', ' ').strip()) \n",
    "\n",
    "print(headings)"
   ]
  },
  {
   "cell_type": "markdown",
   "metadata": {},
   "source": [
    "### get table body"
   ]
  },
  {
   "cell_type": "code",
   "execution_count": 5,
   "metadata": {
    "tags": []
   },
   "outputs": [
    {
     "output_type": "execute_result",
     "data": {
      "text/plain": "  Postal Code           Borough               Neighborhood\n0         M1A      Not assigned               Not assigned\n1         M2A      Not assigned               Not assigned\n2         M3A        North York                  Parkwoods\n3         M4A        North York           Victoria Village\n4         M5A  Downtown Toronto  Regent Park, Harbourfront",
      "text/html": "<div>\n<style scoped>\n    .dataframe tbody tr th:only-of-type {\n        vertical-align: middle;\n    }\n\n    .dataframe tbody tr th {\n        vertical-align: top;\n    }\n\n    .dataframe thead th {\n        text-align: right;\n    }\n</style>\n<table border=\"1\" class=\"dataframe\">\n  <thead>\n    <tr style=\"text-align: right;\">\n      <th></th>\n      <th>Postal Code</th>\n      <th>Borough</th>\n      <th>Neighborhood</th>\n    </tr>\n  </thead>\n  <tbody>\n    <tr>\n      <th>0</th>\n      <td>M1A</td>\n      <td>Not assigned</td>\n      <td>Not assigned</td>\n    </tr>\n    <tr>\n      <th>1</th>\n      <td>M2A</td>\n      <td>Not assigned</td>\n      <td>Not assigned</td>\n    </tr>\n    <tr>\n      <th>2</th>\n      <td>M3A</td>\n      <td>North York</td>\n      <td>Parkwoods</td>\n    </tr>\n    <tr>\n      <th>3</th>\n      <td>M4A</td>\n      <td>North York</td>\n      <td>Victoria Village</td>\n    </tr>\n    <tr>\n      <th>4</th>\n      <td>M5A</td>\n      <td>Downtown Toronto</td>\n      <td>Regent Park, Harbourfront</td>\n    </tr>\n  </tbody>\n</table>\n</div>"
     },
     "metadata": {},
     "execution_count": 5
    }
   ],
   "source": [
    "body = [] # a list that will contain each rows in a table\n",
    "row = [] # a buffer list of each element in a row\n",
    "\n",
    "for postal in range(len(postal_table_data)-1): # iterate through each rows\n",
    "    for td in postal_table_data[postal+1].find_all('td'): # iterate through each column\n",
    "        row.append(td.text.replace('\\n', ' ').strip())\n",
    "    body.append(row) # append each rows into a list\n",
    "    row = [] # clear buffer for next iteration\n",
    "\n",
    "trt_raw = pd.DataFrame(body, columns=headings) # merge a list of each rows into a dataframe\n",
    "trt_raw.head()"
   ]
  },
  {
   "cell_type": "markdown",
   "metadata": {},
   "source": [
    "## cleaning dataframe"
   ]
  },
  {
   "cell_type": "markdown",
   "metadata": {},
   "source": [
    "### deal with borough column and prepare neighborhood column for further processes"
   ]
  },
  {
   "cell_type": "code",
   "execution_count": 6,
   "metadata": {},
   "outputs": [
    {
     "output_type": "execute_result",
     "data": {
      "text/plain": "  Postal Code           Borough  \\\n0         M3A        North York   \n1         M4A        North York   \n2         M5A  Downtown Toronto   \n3         M6A        North York   \n4         M7A  Downtown Toronto   \n\n                                     Neighborhood  \n0                                     [Parkwoods]  \n1                              [Victoria Village]  \n2                    [Regent Park,  Harbourfront]  \n3             [Lawrence Manor,  Lawrence Heights]  \n4  [Queen's Park,  Ontario Provincial Government]  ",
      "text/html": "<div>\n<style scoped>\n    .dataframe tbody tr th:only-of-type {\n        vertical-align: middle;\n    }\n\n    .dataframe tbody tr th {\n        vertical-align: top;\n    }\n\n    .dataframe thead th {\n        text-align: right;\n    }\n</style>\n<table border=\"1\" class=\"dataframe\">\n  <thead>\n    <tr style=\"text-align: right;\">\n      <th></th>\n      <th>Postal Code</th>\n      <th>Borough</th>\n      <th>Neighborhood</th>\n    </tr>\n  </thead>\n  <tbody>\n    <tr>\n      <th>0</th>\n      <td>M3A</td>\n      <td>North York</td>\n      <td>[Parkwoods]</td>\n    </tr>\n    <tr>\n      <th>1</th>\n      <td>M4A</td>\n      <td>North York</td>\n      <td>[Victoria Village]</td>\n    </tr>\n    <tr>\n      <th>2</th>\n      <td>M5A</td>\n      <td>Downtown Toronto</td>\n      <td>[Regent Park,  Harbourfront]</td>\n    </tr>\n    <tr>\n      <th>3</th>\n      <td>M6A</td>\n      <td>North York</td>\n      <td>[Lawrence Manor,  Lawrence Heights]</td>\n    </tr>\n    <tr>\n      <th>4</th>\n      <td>M7A</td>\n      <td>Downtown Toronto</td>\n      <td>[Queen's Park,  Ontario Provincial Government]</td>\n    </tr>\n  </tbody>\n</table>\n</div>"
     },
     "metadata": {},
     "execution_count": 6
    }
   ],
   "source": [
    "trt_raw = trt_raw[trt_raw['Borough'] != 'Not assigned'] # drop a 'not assigned' borough\n",
    "trt_raw['Neighborhood'] = trt_raw['Neighborhood'].str.split(',') # seperate different neighborhood with a comma\n",
    "trt_raw.reset_index(drop=True, inplace=True)\n",
    "trt_raw.head()"
   ]
  },
  {
   "cell_type": "markdown",
   "metadata": {},
   "source": [
    "### processing neighborhood column"
   ]
  },
  {
   "cell_type": "code",
   "execution_count": 7,
   "metadata": {
    "tags": []
   },
   "outputs": [],
   "source": [
    "trt_list = [] # list containing each row in a new table\n",
    "\n",
    "for n in range(len(trt_raw)): # iterate through every row in a table\n",
    "    # if more than one neighborhood exist in a row\n",
    "    if len(trt_raw.loc[n, 'Neighborhood']) > 1:\n",
    "        for nb in range(len(trt_raw.loc[n, 'Neighborhood'])): # split into one row per neighborhood\n",
    "            trt_list.append([trt_raw.loc[n, 'Postal Code'], trt_raw.loc[n, 'Borough'], trt_raw.loc[n, 'Neighborhood'][nb]])\n",
    "\n",
    "    # if neighborhood contain 'not assigned' value\n",
    "    elif trt_raw.loc[n, 'Neighborhood'][0] == 'Not assigned':\n",
    "        trt_list.append([trt_raw.loc[n, 'Postal Code'], trt_raw.loc[n, 'Borough'], trt_raw.loc[n, 'Borough']])\n",
    "\n",
    "    # if only one neighborhood in each row\n",
    "    else:\n",
    "        trt_list.append([trt_raw.loc[n, 'Postal Code'], trt_raw.loc[n, 'Borough'], trt_raw.loc[n, 'Neighborhood'][0]])\n",
    "\n",
    "toronto = pd.DataFrame(trt_list, columns=headings) # merge a list of each rows into a dataframe"
   ]
  },
  {
   "cell_type": "markdown",
   "metadata": {},
   "source": [
    "## final dataframe"
   ]
  },
  {
   "cell_type": "markdown",
   "metadata": {},
   "source": [
    "### let's see how final dataframe looks like"
   ]
  },
  {
   "cell_type": "code",
   "execution_count": 8,
   "metadata": {},
   "outputs": [
    {
     "output_type": "execute_result",
     "data": {
      "text/plain": "  Postal Code           Borough      Neighborhood\n0         M3A        North York         Parkwoods\n1         M4A        North York  Victoria Village\n2         M5A  Downtown Toronto       Regent Park\n3         M5A  Downtown Toronto      Harbourfront\n4         M6A        North York    Lawrence Manor",
      "text/html": "<div>\n<style scoped>\n    .dataframe tbody tr th:only-of-type {\n        vertical-align: middle;\n    }\n\n    .dataframe tbody tr th {\n        vertical-align: top;\n    }\n\n    .dataframe thead th {\n        text-align: right;\n    }\n</style>\n<table border=\"1\" class=\"dataframe\">\n  <thead>\n    <tr style=\"text-align: right;\">\n      <th></th>\n      <th>Postal Code</th>\n      <th>Borough</th>\n      <th>Neighborhood</th>\n    </tr>\n  </thead>\n  <tbody>\n    <tr>\n      <th>0</th>\n      <td>M3A</td>\n      <td>North York</td>\n      <td>Parkwoods</td>\n    </tr>\n    <tr>\n      <th>1</th>\n      <td>M4A</td>\n      <td>North York</td>\n      <td>Victoria Village</td>\n    </tr>\n    <tr>\n      <th>2</th>\n      <td>M5A</td>\n      <td>Downtown Toronto</td>\n      <td>Regent Park</td>\n    </tr>\n    <tr>\n      <th>3</th>\n      <td>M5A</td>\n      <td>Downtown Toronto</td>\n      <td>Harbourfront</td>\n    </tr>\n    <tr>\n      <th>4</th>\n      <td>M6A</td>\n      <td>North York</td>\n      <td>Lawrence Manor</td>\n    </tr>\n  </tbody>\n</table>\n</div>"
     },
     "metadata": {},
     "execution_count": 8
    }
   ],
   "source": [
    "toronto.head()"
   ]
  },
  {
   "cell_type": "code",
   "execution_count": 9,
   "metadata": {},
   "outputs": [
    {
     "output_type": "execute_result",
     "data": {
      "text/plain": "(217, 3)"
     },
     "metadata": {},
     "execution_count": 9
    }
   ],
   "source": [
    "toronto.shape"
   ]
  }
 ],
 "metadata": {
  "language_info": {
   "codemirror_mode": {
    "name": "ipython",
    "version": 3
   },
   "file_extension": ".py",
   "mimetype": "text/x-python",
   "name": "python",
   "nbconvert_exporter": "python",
   "pygments_lexer": "ipython3",
   "version": "3.7.3-final"
  },
  "orig_nbformat": 2,
  "kernelspec": {
   "name": "python3",
   "display_name": "Python 3"
  }
 },
 "nbformat": 4,
 "nbformat_minor": 2
}